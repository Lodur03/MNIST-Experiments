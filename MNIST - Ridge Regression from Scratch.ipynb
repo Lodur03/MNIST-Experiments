{
 "cells": [
  {
   "cell_type": "markdown",
   "metadata": {},
   "source": [
    "## Trabalho Deep Learning\n",
    "\n",
    "- **Nome:** Felipe Coelho Silva\n",
    "\n",
    "Implementação de um modelo de regularização regressão linear.\n",
    "\n",
    "\n",
    "### Labels"
   ]
  },
  {
   "cell_type": "code",
   "execution_count": 41,
   "metadata": {},
   "outputs": [],
   "source": [
    "# Import the relevant modules to be used later\n",
    "from __future__ import print_function\n",
    "import gzip\n",
    "import matplotlib.image as mpimg\n",
    "import matplotlib.pyplot as plt\n",
    "import os\n",
    "import shutil\n",
    "import struct\n",
    "import sys\n",
    "\n",
    "\n",
    "\n",
    "\n",
    "from time import time\n",
    "\n",
    "\n",
    "import numpy as np # linear algebra\n",
    "import pandas as pd # data processing, CSV file I/O (e.g. pd.read_csv)\n",
    "import matplotlib\n",
    "%matplotlib inline\n",
    "\n",
    "\n",
    "\n",
    "import pandas as pd"
   ]
  },
  {
   "cell_type": "markdown",
   "metadata": {},
   "source": [
    "### Leitura dos Dados"
   ]
  },
  {
   "cell_type": "code",
   "execution_count": 42,
   "metadata": {},
   "outputs": [],
   "source": [
    "def loadData(name, cimg):\n",
    "    try:\n",
    "        with gzip.open(name) as gz:\n",
    "            n = struct.unpack('I', gz.read(4))\n",
    "            # Read magic number.\n",
    "            if n[0] != 0x3080000:\n",
    "                raise Exception('Invalid file: unexpected magic number.')\n",
    "            # Read number of entries.\n",
    "            n = struct.unpack('>I', gz.read(4))[0]\n",
    "            if n != cimg:\n",
    "                raise Exception('Invalid file: expected {0} entries.'.format(cimg))\n",
    "            crow = struct.unpack('>I', gz.read(4))[0]\n",
    "            ccol = struct.unpack('>I', gz.read(4))[0]\n",
    "            if crow != 28 or ccol != 28:\n",
    "                raise Exception('Invalid file: expected 28 rows/cols per image.')\n",
    "            # Read data.\n",
    "            res = np.frombuffer(gz.read(cimg * crow * ccol), dtype = np.uint8)\n",
    "    except Exception:\n",
    "        print(\"Errou\")\n",
    "    return res.reshape((cimg, crow * ccol))"
   ]
  },
  {
   "cell_type": "code",
   "execution_count": 43,
   "metadata": {},
   "outputs": [],
   "source": [
    "def loadLabel(gzfname, cimg):\n",
    "    try:\n",
    "        with gzip.open(gzfname) as gz:\n",
    "            n = struct.unpack('I', gz.read(4))\n",
    "            # Read magic number.\n",
    "            if n[0] != 0x1080000:\n",
    "                raise Exception('Invalid file: unexpected magic number.')\n",
    "            # Read number of entries.\n",
    "            n = struct.unpack('>I', gz.read(4))\n",
    "            if n[0] != cimg:\n",
    "                raise Exception('Invalid file: expected {0} rows.'.format(cimg))\n",
    "            # Read labels.\n",
    "            res = np.frombuffer(gz.read(cimg), dtype = np.uint8)\n",
    "    except Exception:\n",
    "            print(\"Errou\")\n",
    "    return res.reshape((cimg, 1))"
   ]
  },
  {
   "cell_type": "code",
   "execution_count": 44,
   "metadata": {},
   "outputs": [],
   "source": [
    "name = 't10k-images-idx3-ubyte.gz'\n",
    "gzfname = 't10k-labels-idx1-ubyte.gz'\n",
    "cimg = 10000\n",
    "\n",
    "X_test =  loadData(name, cimg)\n",
    "y_test = loadLabel(gzfname,cimg)\n",
    "\n",
    "name = 'train-images-idx3-ubyte.gz'\n",
    "gzfname = 'train-labels-idx1-ubyte.gz'\n",
    "cimg = 60000\n",
    "\n",
    "X_train =  loadData(name, cimg)\n",
    "y_train = loadLabel(gzfname, cimg)"
   ]
  },
  {
   "cell_type": "markdown",
   "metadata": {},
   "source": [
    "### Train-Test Split"
   ]
  },
  {
   "cell_type": "code",
   "execution_count": 45,
   "metadata": {},
   "outputs": [],
   "source": [
    "import random\n",
    "\n",
    "indexes = list(range(len(X_train_new)))\n",
    "test_indexes = random.sample(indexes, 10000)\n",
    "\n",
    "X_test = X_train_new[test_indexes]\n",
    "y_test = y_train[test_indexes]\n",
    "\n",
    "train_indices = np.array(list(set(indexes)^set(test_indexes)))\n",
    "X_train_new = X_train_new[train_indices]\n",
    "y_train = y_train[train_indices]"
   ]
  },
  {
   "cell_type": "markdown",
   "metadata": {},
   "source": [
    "### One-hot encoding da variável resposta"
   ]
  },
  {
   "cell_type": "code",
   "execution_count": 46,
   "metadata": {},
   "outputs": [],
   "source": [
    "from sklearn.preprocessing import OneHotEncoder\n",
    "\n",
    "enc = OneHotEncoder(handle_unknown='ignore')\n",
    "X = [[0],[1], [2], [3], [4], [5], [6], [7], [8], [9]]\n",
    "enc.fit(X)\n",
    "\n",
    "y_train_ohe = enc.transform(y_train).toarray()"
   ]
  },
  {
   "cell_type": "markdown",
   "metadata": {},
   "source": [
    "### Bora treinar :)"
   ]
  },
  {
   "cell_type": "code",
   "execution_count": 47,
   "metadata": {
    "scrolled": true
   },
   "outputs": [],
   "source": [
    "X = X_train_new\n",
    "y = y_train_ohe\n",
    "xtx = X.T @ X\n",
    "vector = np.linspace(0, 10, 15)\n",
    "acc_final = []"
   ]
  },
  {
   "cell_type": "code",
   "execution_count": 56,
   "metadata": {},
   "outputs": [
    {
     "name": "stdout",
     "output_type": "stream",
     "text": [
      "com lambda = 1.0, a acc é 0.8438\n",
      "com lambda = 8.06060606060606, a acc é 0.8439\n",
      "com lambda = 15.121212121212121, a acc é 0.844\n",
      "com lambda = 22.18181818181818, a acc é 0.8442\n",
      "com lambda = 29.242424242424242, a acc é 0.8442\n",
      "com lambda = 36.303030303030305, a acc é 0.8442\n",
      "com lambda = 43.36363636363636, a acc é 0.8442\n",
      "com lambda = 50.42424242424242, a acc é 0.8443\n",
      "com lambda = 57.484848484848484, a acc é 0.8444\n",
      "com lambda = 64.54545454545455, a acc é 0.8445\n",
      "com lambda = 71.60606060606061, a acc é 0.8444\n",
      "com lambda = 78.66666666666667, a acc é 0.8444\n",
      "com lambda = 85.72727272727272, a acc é 0.8445\n",
      "com lambda = 92.78787878787878, a acc é 0.8444\n",
      "com lambda = 99.84848484848484, a acc é 0.8445\n",
      "com lambda = 106.9090909090909, a acc é 0.8445\n",
      "com lambda = 113.96969696969697, a acc é 0.8446\n",
      "com lambda = 121.03030303030303, a acc é 0.8447\n",
      "com lambda = 128.0909090909091, a acc é 0.8447\n",
      "com lambda = 135.15151515151516, a acc é 0.8446\n",
      "com lambda = 142.21212121212122, a acc é 0.8446\n",
      "com lambda = 149.27272727272728, a acc é 0.8445\n",
      "com lambda = 156.33333333333334, a acc é 0.8445\n",
      "com lambda = 163.3939393939394, a acc é 0.8445\n",
      "com lambda = 170.45454545454544, a acc é 0.8446\n",
      "com lambda = 177.5151515151515, a acc é 0.8446\n",
      "com lambda = 184.57575757575756, a acc é 0.8446\n",
      "com lambda = 191.63636363636363, a acc é 0.8446\n",
      "com lambda = 198.6969696969697, a acc é 0.8446\n",
      "com lambda = 205.75757575757575, a acc é 0.8446\n",
      "com lambda = 212.8181818181818, a acc é 0.8446\n",
      "com lambda = 219.87878787878788, a acc é 0.8446\n",
      "com lambda = 226.93939393939394, a acc é 0.8446\n",
      "com lambda = 234.0, a acc é 0.8446\n",
      "com lambda = 241.06060606060606, a acc é 0.8446\n",
      "com lambda = 248.12121212121212, a acc é 0.8446\n",
      "com lambda = 255.1818181818182, a acc é 0.8445\n",
      "com lambda = 262.24242424242425, a acc é 0.8445\n",
      "com lambda = 269.3030303030303, a acc é 0.8446\n",
      "com lambda = 276.3636363636364, a acc é 0.8446\n",
      "com lambda = 283.42424242424244, a acc é 0.8445\n",
      "com lambda = 290.4848484848485, a acc é 0.8445\n",
      "com lambda = 297.54545454545456, a acc é 0.8445\n",
      "com lambda = 304.6060606060606, a acc é 0.8444\n",
      "com lambda = 311.6666666666667, a acc é 0.8443\n",
      "com lambda = 318.72727272727275, a acc é 0.8443\n",
      "com lambda = 325.7878787878788, a acc é 0.8443\n",
      "com lambda = 332.8484848484849, a acc é 0.8444\n",
      "com lambda = 339.9090909090909, a acc é 0.8444\n",
      "com lambda = 346.96969696969694, a acc é 0.8443\n",
      "com lambda = 354.030303030303, a acc é 0.8442\n",
      "com lambda = 361.09090909090907, a acc é 0.8442\n",
      "com lambda = 368.1515151515151, a acc é 0.8442\n",
      "com lambda = 375.2121212121212, a acc é 0.8442\n",
      "com lambda = 382.27272727272725, a acc é 0.8442\n",
      "com lambda = 389.3333333333333, a acc é 0.8443\n",
      "com lambda = 396.3939393939394, a acc é 0.8443\n",
      "com lambda = 403.45454545454544, a acc é 0.8443\n",
      "com lambda = 410.5151515151515, a acc é 0.8443\n",
      "com lambda = 417.57575757575756, a acc é 0.8441\n",
      "com lambda = 424.6363636363636, a acc é 0.8441\n",
      "com lambda = 431.6969696969697, a acc é 0.8442\n",
      "com lambda = 438.75757575757575, a acc é 0.8442\n",
      "com lambda = 445.8181818181818, a acc é 0.8442\n",
      "com lambda = 452.8787878787879, a acc é 0.8442\n",
      "com lambda = 459.93939393939394, a acc é 0.8442\n",
      "com lambda = 467.0, a acc é 0.8442\n",
      "com lambda = 474.06060606060606, a acc é 0.8441\n",
      "com lambda = 481.1212121212121, a acc é 0.8441\n",
      "com lambda = 488.1818181818182, a acc é 0.8441\n",
      "com lambda = 495.24242424242425, a acc é 0.8441\n",
      "com lambda = 502.3030303030303, a acc é 0.8441\n",
      "com lambda = 509.3636363636364, a acc é 0.844\n",
      "com lambda = 516.4242424242424, a acc é 0.8438\n",
      "com lambda = 523.4848484848485, a acc é 0.8438\n",
      "com lambda = 530.5454545454545, a acc é 0.8438\n",
      "com lambda = 537.6060606060606, a acc é 0.8438\n",
      "com lambda = 544.6666666666666, a acc é 0.8439\n",
      "com lambda = 551.7272727272727, a acc é 0.844\n",
      "com lambda = 558.7878787878788, a acc é 0.844\n",
      "com lambda = 565.8484848484849, a acc é 0.8439\n",
      "com lambda = 572.9090909090909, a acc é 0.8439\n",
      "com lambda = 579.969696969697, a acc é 0.8439\n",
      "com lambda = 587.030303030303, a acc é 0.844\n",
      "com lambda = 594.0909090909091, a acc é 0.844\n",
      "com lambda = 601.1515151515151, a acc é 0.8439\n",
      "com lambda = 608.2121212121212, a acc é 0.8438\n",
      "com lambda = 615.2727272727273, a acc é 0.8438\n",
      "com lambda = 622.3333333333334, a acc é 0.8438\n",
      "com lambda = 629.3939393939394, a acc é 0.8438\n",
      "com lambda = 636.4545454545455, a acc é 0.8438\n",
      "com lambda = 643.5151515151515, a acc é 0.8438\n",
      "com lambda = 650.5757575757576, a acc é 0.8438\n",
      "com lambda = 657.6363636363636, a acc é 0.8437\n",
      "com lambda = 664.6969696969697, a acc é 0.8437\n",
      "com lambda = 671.7575757575758, a acc é 0.8435\n",
      "com lambda = 678.8181818181818, a acc é 0.8435\n",
      "com lambda = 685.8787878787879, a acc é 0.8433\n",
      "com lambda = 692.9393939393939, a acc é 0.8433\n",
      "com lambda = 700.0, a acc é 0.8433\n"
     ]
    }
   ],
   "source": [
    "vector = np.linspace(1, 700, 100)\n",
    "acc_final = []\n",
    "for i in vector:\n",
    "    acc = 0\n",
    "    k = 0.1 if i == 0 else i\n",
    "    w = np.linalg.inv(xtx+k*np.identity(len(xtx))) @ X.transpose() @ y\n",
    "    for j in range(0, len(X_test)):        \n",
    "        result = np.dot(w.transpose(),X_test[j])\n",
    "        if np.where(result == result.max())==y_test[j]:\n",
    "            acc = acc + 1\n",
    "    acc_final.append(acc/len(X_test))\n",
    "    print(\"com lambda = {}, a acc é {}\".format(k, acc/len(X_test)))"
   ]
  },
  {
   "cell_type": "code",
   "execution_count": 62,
   "metadata": {},
   "outputs": [
    {
     "data": {
      "image/png": "[encoded data removed]",
      "text/plain": [
       "<matplotlib.figure.Figure at 0x249013e5f60>"
      ]
     },
     "metadata": {},
     "output_type": "display_data"
    }
   ],
   "source": [
    "plt.plot(vector, acc_final)\n",
    "plt.xlabel('Lambda')\n",
    "plt.ylabel('Accuracy')\n",
    "plt.title('HELLO DARKNESS MY OLD FRIEND')\n",
    "plt.show()"
   ]
  },
  {
   "cell_type": "code",
   "execution_count": 66,
   "metadata": {},
   "outputs": [],
   "source": [
    "import pandas as pd\n",
    "w = np.linalg.inv(xtx+128*np.identity(len(xtx))) @ X.transpose() @ y\n",
    "pd.DataFrame(w).to_csv('felipeCoelhoSilva.csv', index=False, sep=',', header = False)"
   ]
  },
  {
   "cell_type": "code",
   "execution_count": null,
   "metadata": {},
   "outputs": [],
   "source": []
  }
 ],
 "metadata": {
  "kernelspec": {
   "display_name": "Python 3",
   "language": "python",
   "name": "python3"
  }
 },
 "nbformat": 4,
 "nbformat_minor": 2
}
